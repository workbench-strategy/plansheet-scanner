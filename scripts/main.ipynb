{
 "cells": [
  {
   "cell_type": "code",
   "execution_count": null,
   "id": "fd1f8ebc",
   "metadata": {},
   "outputs": [
    {
     "name": "stdout",
     "output_type": "stream",
     "text": [
      "Requirement already satisfied: pandas in c:\\python\\plansheet-scanner\\.venv\\lib\\site-packages (2.2.3)\n",
      "Requirement already satisfied: simplekml in c:\\python\\plansheet-scanner\\.venv\\lib\\site-packages (1.3.6)\n",
      "Requirement already satisfied: ipywidgets in c:\\python\\plansheet-scanner\\.venv\\lib\\site-packages (8.1.6)\n",
      "Requirement already satisfied: numpy>=1.22.4 in c:\\python\\plansheet-scanner\\.venv\\lib\\site-packages (from pandas) (2.2.5)\n",
      "Requirement already satisfied: python-dateutil>=2.8.2 in c:\\python\\plansheet-scanner\\.venv\\lib\\site-packages (from pandas) (2.9.0.post0)\n",
      "Requirement already satisfied: pytz>=2020.1 in c:\\python\\plansheet-scanner\\.venv\\lib\\site-packages (from pandas) (2025.2)\n",
      "Requirement already satisfied: tzdata>=2022.7 in c:\\python\\plansheet-scanner\\.venv\\lib\\site-packages (from pandas) (2025.2)\n",
      "Requirement already satisfied: comm>=0.1.3 in c:\\python\\plansheet-scanner\\.venv\\lib\\site-packages (from ipywidgets) (0.2.2)\n",
      "Requirement already satisfied: ipython>=6.1.0 in c:\\python\\plansheet-scanner\\.venv\\lib\\site-packages (from ipywidgets) (8.36.0)\n",
      "Requirement already satisfied: traitlets>=4.3.1 in c:\\python\\plansheet-scanner\\.venv\\lib\\site-packages (from ipywidgets) (5.14.3)\n",
      "Requirement already satisfied: widgetsnbextension~=4.0.14 in c:\\python\\plansheet-scanner\\.venv\\lib\\site-packages (from ipywidgets) (4.0.14)\n",
      "Requirement already satisfied: jupyterlab_widgets~=3.0.14 in c:\\python\\plansheet-scanner\\.venv\\lib\\site-packages (from ipywidgets) (3.0.14)\n",
      "Requirement already satisfied: colorama in c:\\python\\plansheet-scanner\\.venv\\lib\\site-packages (from ipython>=6.1.0->ipywidgets) (0.4.6)\n",
      "Requirement already satisfied: decorator in c:\\python\\plansheet-scanner\\.venv\\lib\\site-packages (from ipython>=6.1.0->ipywidgets) (5.2.1)\n",
      "Requirement already satisfied: exceptiongroup in c:\\python\\plansheet-scanner\\.venv\\lib\\site-packages (from ipython>=6.1.0->ipywidgets) (1.2.2)\n",
      "Requirement already satisfied: jedi>=0.16 in c:\\python\\plansheet-scanner\\.venv\\lib\\site-packages (from ipython>=6.1.0->ipywidgets) (0.19.2)\n",
      "Requirement already satisfied: matplotlib-inline in c:\\python\\plansheet-scanner\\.venv\\lib\\site-packages (from ipython>=6.1.0->ipywidgets) (0.1.7)\n",
      "Requirement already satisfied: prompt_toolkit<3.1.0,>=3.0.41 in c:\\python\\plansheet-scanner\\.venv\\lib\\site-packages (from ipython>=6.1.0->ipywidgets) (3.0.51)\n",
      "Requirement already satisfied: pygments>=2.4.0 in c:\\python\\plansheet-scanner\\.venv\\lib\\site-packages (from ipython>=6.1.0->ipywidgets) (2.19.1)\n",
      "Requirement already satisfied: stack_data in c:\\python\\plansheet-scanner\\.venv\\lib\\site-packages (from ipython>=6.1.0->ipywidgets) (0.6.3)\n",
      "Requirement already satisfied: typing_extensions>=4.6 in c:\\python\\plansheet-scanner\\.venv\\lib\\site-packages (from ipython>=6.1.0->ipywidgets) (4.13.2)\n",
      "Requirement already satisfied: wcwidth in c:\\python\\plansheet-scanner\\.venv\\lib\\site-packages (from prompt_toolkit<3.1.0,>=3.0.41->ipython>=6.1.0->ipywidgets) (0.2.13)\n",
      "Requirement already satisfied: parso<0.9.0,>=0.8.4 in c:\\python\\plansheet-scanner\\.venv\\lib\\site-packages (from jedi>=0.16->ipython>=6.1.0->ipywidgets) (0.8.4)\n",
      "Requirement already satisfied: six>=1.5 in c:\\python\\plansheet-scanner\\.venv\\lib\\site-packages (from python-dateutil>=2.8.2->pandas) (1.17.0)\n",
      "Requirement already satisfied: executing>=1.2.0 in c:\\python\\plansheet-scanner\\.venv\\lib\\site-packages (from stack_data->ipython>=6.1.0->ipywidgets) (2.2.0)\n",
      "Requirement already satisfied: asttokens>=2.1.0 in c:\\python\\plansheet-scanner\\.venv\\lib\\site-packages (from stack_data->ipython>=6.1.0->ipywidgets) (3.0.0)\n",
      "Requirement already satisfied: pure-eval in c:\\python\\plansheet-scanner\\.venv\\lib\\site-packages (from stack_data->ipython>=6.1.0->ipywidgets) (0.2.3)\n",
      "Note: you may need to restart the kernel to use updated packages.\n",
      "Requirement already satisfied: pandas in c:\\python\\plansheet-scanner\\.venv\\lib\\site-packages (2.2.3)\n",
      "Requirement already satisfied: numpy>=1.22.4 in c:\\python\\plansheet-scanner\\.venv\\lib\\site-packages (from pandas) (2.2.5)\n",
      "Requirement already satisfied: python-dateutil>=2.8.2 in c:\\python\\plansheet-scanner\\.venv\\lib\\site-packages (from pandas) (2.9.0.post0)\n",
      "Requirement already satisfied: pytz>=2020.1 in c:\\python\\plansheet-scanner\\.venv\\lib\\site-packages (from pandas) (2025.2)\n",
      "Requirement already satisfied: tzdata>=2022.7 in c:\\python\\plansheet-scanner\\.venv\\lib\\site-packages (from pandas) (2025.2)\n",
      "Requirement already satisfied: six>=1.5 in c:\\python\\plansheet-scanner\\.venv\\lib\\site-packages (from python-dateutil>=2.8.2->pandas) (1.17.0)\n",
      "Note: you may need to restart the kernel to use updated packages.\n",
      "Sample 'conceptual_plans.csv' file created.\n"
     ]
    },
    {
     "data": {
      "application/vnd.jupyter.widget-view+json": {
       "model_id": "d2be5f3b7f1444958ead9674da86179b",
       "version_major": 2,
       "version_minor": 0
      },
      "text/plain": [
       "Dropdown(description='Select Symbol:', options=('A', 'B', 'C'), value='A')"
      ]
     },
     "metadata": {},
     "output_type": "display_data"
    },
    {
     "data": {
      "application/vnd.jupyter.widget-view+json": {
       "model_id": "0739a518cb514b3184460c6f665ac6d8",
       "version_major": 2,
       "version_minor": 0
      },
      "text/plain": [
       "interactive(children=(Dropdown(description='Select Symbol:', options=('A', 'B', 'C'), value='A'), Output()), _…"
      ]
     },
     "metadata": {},
     "output_type": "display_data"
    },
    {
     "data": {
      "text/html": [
       "<div>\n",
       "<style scoped>\n",
       "    .dataframe tbody tr th:only-of-type {\n",
       "        vertical-align: middle;\n",
       "    }\n",
       "\n",
       "    .dataframe tbody tr th {\n",
       "        vertical-align: top;\n",
       "    }\n",
       "\n",
       "    .dataframe thead th {\n",
       "        text-align: right;\n",
       "    }\n",
       "</style>\n",
       "<table border=\"1\" class=\"dataframe\">\n",
       "  <thead>\n",
       "    <tr style=\"text-align: right;\">\n",
       "      <th></th>\n",
       "      <th>Symbol</th>\n",
       "      <th>Latitude</th>\n",
       "      <th>Longitude</th>\n",
       "      <th>Label</th>\n",
       "    </tr>\n",
       "  </thead>\n",
       "  <tbody>\n",
       "    <tr>\n",
       "      <th>0</th>\n",
       "      <td>A</td>\n",
       "      <td>34.0522</td>\n",
       "      <td>-118.2437</td>\n",
       "      <td>Point 1</td>\n",
       "    </tr>\n",
       "    <tr>\n",
       "      <th>2</th>\n",
       "      <td>A</td>\n",
       "      <td>34.0522</td>\n",
       "      <td>-118.2437</td>\n",
       "      <td>Point 3</td>\n",
       "    </tr>\n",
       "  </tbody>\n",
       "</table>\n",
       "</div>"
      ],
      "text/plain": [
       "  Symbol  Latitude  Longitude    Label\n",
       "0      A   34.0522  -118.2437  Point 1\n",
       "2      A   34.0522  -118.2437  Point 3"
      ]
     },
     "metadata": {},
     "output_type": "display_data"
    },
    {
     "name": "stdout",
     "output_type": "stream",
     "text": [
      "KMZ file generated successfully!\n",
      "Instructions:\n",
      "1. Load the conceptual plans data in CSV format.\n",
      "2. Select a symbol from the dropdown menu.\n",
      "3. Confirm the labels for each symbol.\n",
      "4. The KMZ file will be generated and saved to the specified location.\n"
     ]
    }
   ],
   "source": [
    "# Install missing modules\n",
    "%pip install pandas simplekml ipywidgets\n",
    "# Ensure pandas is installed to resolve the import error\n",
    "%pip install pandas\n",
    "\n",
    "# Import necessary libraries\n",
    "import pandas as pd\n",
    "import simplekml\n",
    "from ipywidgets import interact, widgets\n",
    "from IPython.display import display\n",
    "\n",
    "# Cell 1: Load the conceptual plans data\n",
    "# This cell loads the data from a CSV file containing the conceptual plans.\n",
    "# The CSV file should have columns for 'Symbol', 'Latitude', 'Longitude', and 'Label'.\n",
    "import os\n",
    "\n",
    "if not os.path.exists('conceptual_plans.csv'):\n",
    "    # Create a sample CSV file if it doesn't exist\n",
    "    sample_data = {\n",
    "        'Symbol': ['A', 'B', 'A', 'C'],\n",
    "        'Latitude': [34.0522, 36.7783, 34.0522, 40.7128],\n",
    "        'Longitude': [-118.2437, -119.4179, -118.2437, -74.0060],\n",
    "        'Label': ['Point 1', 'Point 2', 'Point 3', 'Point 4']\n",
    "    }\n",
    "    pd.DataFrame(sample_data).to_csv('conceptual_plans.csv', index=False)\n",
    "    print(\"Sample 'conceptual_plans.csv' file created.\")\n",
    "\n",
    "data = pd.read_csv('conceptual_plans.csv')\n",
    "data.head()\n",
    "\n"
   ]
  },
  {
   "cell_type": "code",
   "execution_count": null,
   "id": "9c602de4",
   "metadata": {},
   "outputs": [],
   "source": [
    "# Cell 2: Display the legend symbols for user selection\n",
    "# This cell creates a dropdown widget for the user to select a symbol from the legend.\n",
    "symbols = data['Symbol'].unique()\n",
    "symbol_dropdown = widgets.Dropdown(options=symbols, description='Select Symbol:')\n",
    "display(symbol_dropdown)\n",
    "\n",
    "\n"
   ]
  },
  {
   "cell_type": "code",
   "execution_count": null,
   "id": "7fefe850",
   "metadata": {},
   "outputs": [],
   "source": [
    "# Cell 3: Filter data based on user-selected symbol\n",
    "# This cell filters the data based on the symbol selected by the user.\n",
    "def filter_data(symbol):\n",
    "    filtered_data = data[data['Symbol'] == symbol]\n",
    "    return filtered_data\n",
    "\n"
   ]
  },
  {
   "cell_type": "code",
   "execution_count": null,
   "id": "05120548",
   "metadata": {},
   "outputs": [],
   "source": [
    "# Cell 4: Display filtered data for user confirmation\n",
    "# This cell displays the filtered data and allows the user to confirm the labels for each symbol.\n",
    "@interact\n",
    "def confirm_labels(symbol=symbol_dropdown):\n",
    "    filtered_data = filter_data(symbol)\n",
    "    display(filtered_data)\n",
    "    return filtered_data\n",
    "\n"
   ]
  },
  {
   "cell_type": "code",
   "execution_count": null,
   "id": "285c5d6b",
   "metadata": {},
   "outputs": [],
   "source": [
    "# Cell 5: Generate KMZ file\n",
    "# This cell generates a KMZ file based on the filtered data and user-confirmed labels.\n",
    "def generate_kmz(filtered_data):\n",
    "    kml = simplekml.Kml()\n",
    "    for index, row in filtered_data.iterrows():\n",
    "        kml.newpoint(name=row['Label'], coords=[(row['Longitude'], row['Latitude'])])\n",
    "    kml.save('output.kmz')\n",
    "\n"
   ]
  },
  {
   "cell_type": "code",
   "execution_count": null,
   "id": "bcd0a6d7",
   "metadata": {},
   "outputs": [],
   "source": [
    "# Cell 6: Save KMZ file\n",
    "# This cell saves the KMZ file to the specified location.\n",
    "filtered_data = confirm_labels(symbol_dropdown.value)\n",
    "generate_kmz(filtered_data)\n",
    "print(\"KMZ file generated successfully!\")\n",
    "\n"
   ]
  },
  {
   "cell_type": "code",
   "execution_count": null,
   "id": "c55940e7",
   "metadata": {},
   "outputs": [],
   "source": [
    "# Cell 7: Instructions for the user\n",
    "# This cell provides instructions for the user on how to use the notebook.\n",
    "print(\"Instructions:\")\n",
    "print(\"1. Load the conceptual plans data in CSV format.\")\n",
    "print(\"2. Select a symbol from the dropdown menu.\")\n",
    "print(\"3. Confirm the labels for each symbol.\")\n",
    "print(\"4. The KMZ file will be generated and saved to the specified location.\")"
   ]
  }
 ],
 "metadata": {
  "kernelspec": {
   "display_name": ".venv",
   "language": "python",
   "name": "python3"
  },
  "language_info": {
   "codemirror_mode": {
    "name": "ipython",
    "version": 3
   },
   "file_extension": ".py",
   "mimetype": "text/x-python",
   "name": "python",
   "nbconvert_exporter": "python",
   "pygments_lexer": "ipython3",
   "version": "3.10.11"
  }
 },
 "nbformat": 4,
 "nbformat_minor": 5
}
